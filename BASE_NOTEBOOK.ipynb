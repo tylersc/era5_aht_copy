{
 "cells": [
  {
   "cell_type": "markdown",
   "id": "01b6a967-9e99-408f-bf18-775900261c49",
   "metadata": {},
   "source": [
    "## Import packages"
   ]
  },
  {
   "cell_type": "code",
   "execution_count": 1,
   "id": "c1642b84-09b9-48b9-99bb-59595d0aa214",
   "metadata": {},
   "outputs": [],
   "source": [
    "import xarray as xr\n",
    "from glob import glob\n",
    "import matplotlib.pyplot as plt\n",
    "import numpy as np\n",
    "from scipy import signal\n",
    "import scipy.stats as sc\n",
    "import metpy as mtp\n",
    "import math\n",
    "from scipy import integrate\n",
    "import ERA5_functions as era_fncts\n",
    "import pandas as pd\n",
    "\n",
    "from matplotlib.pyplot import cm\n",
    "import datetime as dt\n",
    "\n",
    "import cartopy.crs as ccrs\n",
    "from numpy.random import default_rng\n",
    "\n",
    "%load_ext autoreload\n",
    "%autoreload 2"
   ]
  },
  {
   "cell_type": "markdown",
   "id": "713cf921-986c-4cf8-a845-ffb765683f80",
   "metadata": {},
   "source": [
    "### Constants"
   ]
  },
  {
   "cell_type": "code",
   "execution_count": 2,
   "id": "251a5e5e-7977-478e-89ea-c32e4028b5e6",
   "metadata": {},
   "outputs": [],
   "source": [
    "a=6371220 #radius of earth in m\n",
    "L=2.5E6 #Latent heat in atmosphere\n",
    "L_ice=3.34e5 #Latent heat of fusion\n",
    "g=9.81 #Acceleration from gravity\n",
    "conv_pw=1e15 #Conversion from watts to PW\n",
    "cp=1007          \n",
    "    "
   ]
  },
  {
   "cell_type": "markdown",
   "id": "ed61cd9d-7806-493c-9e19-f4d2cb7b6534",
   "metadata": {},
   "source": [
    "### Dims"
   ]
  },
  {
   "cell_type": "code",
   "execution_count": 3,
   "id": "a776aa1d-e859-45e7-8eee-d25e83802150",
   "metadata": {},
   "outputs": [],
   "source": [
    "lats = np.linspace(90, -90, 361)\n",
    "lons = np.linspace(0, 359.5, 720)\n",
    "levels = [1, 2, 3, 5, 7, 10, 20, 30, 50, 70, 100, 125, 150, 175, 200, 225, 250, 300, 350,\n",
    "            400, 450, 500, 550, 600, 650, 700, 750, 775, 800, 825, 850, 875, 900, 925, 950, 975, 1000]\n",
    "geometry = 2 * np.pi * np.cos(np.deg2rad(np.asarray(lats))) * a / g"
   ]
  },
  {
   "cell_type": "markdown",
   "id": "3e924037-94e6-4444-9401-6d2e314662d3",
   "metadata": {},
   "source": [
    "### Load instantaneous AHT calcs"
   ]
  },
  {
   "cell_type": "code",
   "execution_count": 4,
   "id": "a27c7d8c-6db1-4ab8-a0b7-4e1ccff32fa2",
   "metadata": {},
   "outputs": [],
   "source": [
    "aht_ds = xr.open_dataset('aht_time_series/era5_aht_time_series.nc')"
   ]
  }
 ],
 "metadata": {
  "kernelspec": {
   "display_name": "Python 3",
   "language": "python",
   "name": "python3"
  },
  "language_info": {
   "codemirror_mode": {
    "name": "ipython",
    "version": 3
   },
   "file_extension": ".py",
   "mimetype": "text/x-python",
   "name": "python",
   "nbconvert_exporter": "python",
   "pygments_lexer": "ipython3",
   "version": "3.9.6"
  }
 },
 "nbformat": 4,
 "nbformat_minor": 5
}
