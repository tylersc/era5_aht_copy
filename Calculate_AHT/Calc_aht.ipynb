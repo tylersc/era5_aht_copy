{
 "cells": [
  {
   "cell_type": "code",
   "execution_count": 1,
   "id": "f0a30e8d-f39c-434c-b7c3-eb197daaab20",
   "metadata": {},
   "outputs": [],
   "source": [
    "%reset -f\n",
    "\n",
    "import xarray as xr\n",
    "import numpy as np\n",
    "import ERA5_functions as era_fncts\n",
    "import time as time_it\n",
    "from glob import glob\n",
    "import matplotlib.pyplot as plt\n",
    "\n",
    "%load_ext autoreload\n",
    "%autoreload 2\n",
    "\n",
    "%load_ext line_profiler\n",
    "\n"
   ]
  },
  {
   "cell_type": "code",
   "execution_count": null,
   "id": "646ae79c-8670-42c2-9037-1e1cfd46fe19",
   "metadata": {},
   "outputs": [],
   "source": []
  },
  {
   "cell_type": "code",
   "execution_count": 2,
   "id": "0a92f52e-f9c3-4387-9cf6-a45768e0fbb2",
   "metadata": {},
   "outputs": [],
   "source": [
    "%run do_aht_12z.py"
   ]
  },
  {
   "cell_type": "code",
   "execution_count": null,
   "id": "49441f24-0cb7-4945-893d-4e01d0622c72",
   "metadata": {},
   "outputs": [],
   "source": []
  },
  {
   "cell_type": "code",
   "execution_count": 3,
   "id": "c77fd4df-68a8-456c-8d8a-89448e8406b2",
   "metadata": {},
   "outputs": [],
   "source": [
    "%reset -f"
   ]
  },
  {
   "cell_type": "code",
   "execution_count": 4,
   "id": "be5a9e5e-ffc1-415f-9698-55544046c497",
   "metadata": {},
   "outputs": [],
   "source": [
    "%run do_aht_18z.py"
   ]
  },
  {
   "cell_type": "code",
   "execution_count": 6,
   "id": "78c99b9e-64e2-42bc-8b37-6afcc5b76434",
   "metadata": {},
   "outputs": [],
   "source": [
    "def get_memory():\n",
    "    with open('/proc/meminfo', 'r') as mem:\n",
    "        free_memory = 0\n",
    "        for i in mem:\n",
    "            sline = i.split()\n",
    "            if str(sline[0]) in ('MemFree:', 'Buffers:', 'Cached:'):\n",
    "                free_memory += int(sline[1])\n",
    "                \n",
    "    return free_memory\n",
    "\n",
    "def memory_limit():\n",
    "    soft, hard = resource.getrlimit(resource.RLIMIT_AS)\n",
    "    resource.setrlimit(resource.RLIMIT_AS, (get_memory() * 1024 / 2, hard))"
   ]
  },
  {
   "cell_type": "code",
   "execution_count": 4,
   "id": "031972e9-1021-456e-bcd9-0f25542c7505",
   "metadata": {},
   "outputs": [
    {
     "name": "stdout",
     "output_type": "stream",
     "text": [
      "95468996\n"
     ]
    }
   ],
   "source": [
    "mem = get_memory()"
   ]
  },
  {
   "cell_type": "code",
   "execution_count": 7,
   "id": "5a4f15c5-04c0-4d2c-b0a3-9451df797d0b",
   "metadata": {},
   "outputs": [
    {
     "ename": "NameError",
     "evalue": "name 'resource' is not defined",
     "output_type": "error",
     "traceback": [
      "\u001b[0;31m---------------------------------------------------------------------------\u001b[0m",
      "\u001b[0;31mNameError\u001b[0m                                 Traceback (most recent call last)",
      "\u001b[0;32m<ipython-input-7-51e38d2e2db8>\u001b[0m in \u001b[0;36m<module>\u001b[0;34m\u001b[0m\n\u001b[0;32m----> 1\u001b[0;31m \u001b[0mmemory_limit\u001b[0m\u001b[0;34m(\u001b[0m\u001b[0;34m)\u001b[0m\u001b[0;34m\u001b[0m\u001b[0;34m\u001b[0m\u001b[0m\n\u001b[0m",
      "\u001b[0;32m<ipython-input-6-159bbf48262d>\u001b[0m in \u001b[0;36mmemory_limit\u001b[0;34m()\u001b[0m\n\u001b[1;32m     10\u001b[0m \u001b[0;34m\u001b[0m\u001b[0m\n\u001b[1;32m     11\u001b[0m \u001b[0;32mdef\u001b[0m \u001b[0mmemory_limit\u001b[0m\u001b[0;34m(\u001b[0m\u001b[0;34m)\u001b[0m\u001b[0;34m:\u001b[0m\u001b[0;34m\u001b[0m\u001b[0;34m\u001b[0m\u001b[0m\n\u001b[0;32m---> 12\u001b[0;31m     \u001b[0msoft\u001b[0m\u001b[0;34m,\u001b[0m \u001b[0mhard\u001b[0m \u001b[0;34m=\u001b[0m \u001b[0mresource\u001b[0m\u001b[0;34m.\u001b[0m\u001b[0mgetrlimit\u001b[0m\u001b[0;34m(\u001b[0m\u001b[0mresource\u001b[0m\u001b[0;34m.\u001b[0m\u001b[0mRLIMIT_AS\u001b[0m\u001b[0;34m)\u001b[0m\u001b[0;34m\u001b[0m\u001b[0;34m\u001b[0m\u001b[0m\n\u001b[0m\u001b[1;32m     13\u001b[0m     \u001b[0mresource\u001b[0m\u001b[0;34m.\u001b[0m\u001b[0msetrlimit\u001b[0m\u001b[0;34m(\u001b[0m\u001b[0mresource\u001b[0m\u001b[0;34m.\u001b[0m\u001b[0mRLIMIT_AS\u001b[0m\u001b[0;34m,\u001b[0m \u001b[0;34m(\u001b[0m\u001b[0mget_memory\u001b[0m\u001b[0;34m(\u001b[0m\u001b[0;34m)\u001b[0m \u001b[0;34m*\u001b[0m \u001b[0;36m1024\u001b[0m \u001b[0;34m/\u001b[0m \u001b[0;36m2\u001b[0m\u001b[0;34m,\u001b[0m \u001b[0mhard\u001b[0m\u001b[0;34m)\u001b[0m\u001b[0;34m)\u001b[0m\u001b[0;34m\u001b[0m\u001b[0;34m\u001b[0m\u001b[0m\n",
      "\u001b[0;31mNameError\u001b[0m: name 'resource' is not defined"
     ]
    }
   ],
   "source": [
    "memory_limit()"
   ]
  },
  {
   "cell_type": "code",
   "execution_count": null,
   "id": "d30973e7-9324-4db6-964e-4604707e3871",
   "metadata": {},
   "outputs": [],
   "source": []
  }
 ],
 "metadata": {
  "kernelspec": {
   "display_name": "Python 3",
   "language": "python",
   "name": "python3"
  },
  "language_info": {
   "codemirror_mode": {
    "name": "ipython",
    "version": 3
   },
   "file_extension": ".py",
   "mimetype": "text/x-python",
   "name": "python",
   "nbconvert_exporter": "python",
   "pygments_lexer": "ipython3",
   "version": "3.9.2"
  }
 },
 "nbformat": 4,
 "nbformat_minor": 5
}
