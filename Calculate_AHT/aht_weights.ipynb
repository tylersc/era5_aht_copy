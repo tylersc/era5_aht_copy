{
 "cells": [
  {
   "cell_type": "code",
   "execution_count": 2,
   "id": "91d6820f-6b58-4200-a932-68677b794604",
   "metadata": {},
   "outputs": [],
   "source": [
    "\n",
    "import xarray as xr\n",
    "from glob import glob\n",
    "import matplotlib.pyplot as plt\n",
    "import numpy as np\n",
    "from scipy import signal\n",
    "import scipy.stats as sc\n",
    "import scipy.io as io\n",
    "import copy\n",
    "import metpy as mtp\n",
    "from scipy import integrate\n",
    "import xesmf as xe\n",
    "import cartopy.crs as ccrs"
   ]
  },
  {
   "cell_type": "code",
   "execution_count": 58,
   "id": "b3427a5c-7518-4b6d-b995-753ec7cb5283",
   "metadata": {},
   "outputs": [
    {
     "name": "stdout",
     "output_type": "stream",
     "text": [
      "The autoreload extension is already loaded. To reload it, use:\n",
      "  %reload_ext autoreload\n",
      "The line_profiler extension is already loaded. To reload it, use:\n",
      "  %reload_ext line_profiler\n"
     ]
    }
   ],
   "source": [
    "\n",
    "import xarray as xr\n",
    "import numpy as np\n",
    "import ERA5_functions as era_fncts\n",
    "import time as time_it\n",
    "from glob import glob\n",
    "import matplotlib.pyplot as plt\n",
    "\n",
    "%load_ext autoreload\n",
    "%autoreload 2\n",
    "\n",
    "%load_ext line_profiler"
   ]
  },
  {
   "cell_type": "code",
   "execution_count": 11,
   "id": "14f01b8a-506a-4077-8edc-ce9af2646daa",
   "metadata": {},
   "outputs": [],
   "source": [
    "#Constants\n",
    "a=6371220 #radius of earth in m\n",
    "L=2.5E6 #Latent heat in atmosphere\n",
    "L_ice=3.34e5 #Latent heat of fusion\n",
    "g=9.81 #Acceleration from gravity\n",
    "conv_pw=1e15 #Conversion from watts to PW\n",
    "cp=1007  "
   ]
  },
  {
   "cell_type": "code",
   "execution_count": 55,
   "id": "ea7b93b1-ef75-4a5a-989e-23addb2abd51",
   "metadata": {},
   "outputs": [
    {
     "name": "stderr",
     "output_type": "stream",
     "text": [
      "/home/disk/p/tylersc/anaconda3/envs/era5/lib/python3.9/site-packages/xesmf/frontend.py:496: FutureWarning: ``output_sizes`` should be given in the ``dask_gufunc_kwargs`` parameter. It will be removed as direct parameter in a future version.\n",
      "  ds_out = xr.apply_ufunc(\n"
     ]
    }
   ],
   "source": [
    "#new_weight = era_fncts.aht_weights()\n",
    "\n",
    "#np.save('aht_calcs/aht_weights.npy', new_weight)"
   ]
  },
  {
   "cell_type": "code",
   "execution_count": 28,
   "id": "61392642-8c0f-43ff-9476-4effe07db2c2",
   "metadata": {},
   "outputs": [],
   "source": [
    "#Want to get a weighting function to take zonal means like Aarons ZON_NORM\n",
    "\n",
    "zonal_sum = np.nansum(new_weight, axis=2)\n",
    "\n",
    "zon_norm = new_weight/zonal_sum[:,:,None]\n",
    "\n",
    "zon_norm[np.isnan(zon_norm)] = 0\n",
    "#np.save('zonal_norms', zon_norm)"
   ]
  },
  {
   "cell_type": "code",
   "execution_count": 7,
   "id": "50824787-1d34-4b81-bfbf-38d68b79a42b",
   "metadata": {},
   "outputs": [],
   "source": [
    "new_weight_zonal_ave = np.nanmean(new_weight, axis=2)\n",
    "    \n",
    "#Now make sure we don't count nan levels in zonal mean\n",
    "nan_count=np.isnan(new_weight).sum(axis=2)\n",
    "nan_count=1-(nan_count/len(new_weight[0,0,:]))\n",
    "new_weight_zonal_ave=new_weight_zonal_ave*nan_count"
   ]
  },
  {
   "cell_type": "code",
   "execution_count": 8,
   "id": "f2e50a80-f933-44d6-94d7-a2a7c4091384",
   "metadata": {},
   "outputs": [],
   "source": [
    "aaron_weight = io.loadmat('aaron_aht_stuff/CLIM_MASKS.mat', verify_compressed_data_integrity=False)\n",
    "aaron_ps = io.loadmat('aaron_aht_stuff/CLIM_PS_all_years.mat', verify_compressed_data_integrity=False)"
   ]
  },
  {
   "cell_type": "code",
   "execution_count": 23,
   "id": "dda36979-8c1c-48c5-b657-65e8819fd54c",
   "metadata": {},
   "outputs": [
    {
     "name": "stdout",
     "output_type": "stream",
     "text": [
      "dict_keys(['__header__', '__version__', '__globals__', 'CPS', 'TMASK', 'WEIGHT', 'WEIGHT2', 'ZON_NORM', 'ZON_NORM2', 'ZON_WEIGHT', 'ZON_WEIGHT2', 'lat', 'lev', 'lon'])\n"
     ]
    }
   ],
   "source": [
    "print(aaron_weight.keys())"
   ]
  },
  {
   "cell_type": "code",
   "execution_count": 9,
   "id": "4fbb5148-4577-4ca9-a455-c6df0c8697be",
   "metadata": {},
   "outputs": [],
   "source": [
    "lats = np.linspace(90, -90, 361)\n",
    "lons = np.linspace(0, 359.5, 720)\n",
    "levels = [1, 2, 3, 5, 7, 10, 20, 30, 50, 70, 100, 125, 150, 175, 200, 225, 250, 300, 350, 400, 450, 500, 550, 600, 650, 700, 750, 775, 800, 825, 850, 875, 900, 925, 950, 975, 1000]\n",
    "\n"
   ]
  },
  {
   "cell_type": "code",
   "execution_count": 22,
   "id": "3fdad50e-6b87-4a55-943a-5fa790b059c6",
   "metadata": {},
   "outputs": [
    {
     "name": "stderr",
     "output_type": "stream",
     "text": [
      "<ipython-input-22-fa100fca62ed>:9: RuntimeWarning: Mean of empty slice\n",
      "  plt.contourf(lats, levels, np.nanmean(new_weight, axis=2)/g)\n"
     ]
    },
    {
     "data": {
      "image/png": "[encoded data removed]",
      "text/plain": [
       "<Figure size 432x288 with 2 Axes>"
      ]
     },
     "metadata": {
      "needs_background": "light"
     },
     "output_type": "display_data"
    },
    {
     "data": {
      "text/plain": [
       "Text(0.5, 1.0, 'Zonally averaged weights')"
      ]
     },
     "execution_count": 22,
     "metadata": {},
     "output_type": "execute_result"
    },
    {
     "data": {
      "image/png": "[encoded data removed]",
      "text/plain": [
       "<Figure size 432x288 with 2 Axes>"
      ]
     },
     "metadata": {
      "needs_background": "light"
     },
     "output_type": "display_data"
    }
   ],
   "source": [
    "aaron_weight_zonal_array = aaron_weight['ZON_WEIGHT']\n",
    "#aaron_weight_zonal_array[aaron_weight_zonal_array==0] = np.nan\n",
    "aaron_zon_norm = aaron_weight['ZON_NORM']\n",
    "      \n",
    "      \n",
    "#plt.contourf(lats, levels, aaron_weight_zonal_array * np.nansum(aaron_zon_norm, axis=2))\n",
    "#plt.contourf(lats, levels, np.nansum(aaron_zon_norm, axis=2))\n",
    "\n",
    "plt.contourf(lats, levels, np.nanmean(new_weight, axis=2)/g)\n",
    "plt.colorbar()\n",
    "plt.gca().invert_yaxis()\n",
    "plt.show()\n",
    "\n",
    "plt.contourf(lats, levels, aaron_weight_zonal_array)\n",
    "\n",
    "plt.gca().invert_yaxis()\n",
    "\n",
    "#plt.contourf(lons, lats, np.nansum(new_weight/g - aaron_weight['WEIGHT'], axis=0))\n",
    "\n",
    "plt.colorbar(label='kg/m^2')\n",
    "plt.xlabel('Latitude', fontsize=15)\n",
    "plt.ylabel('Pressure', fontsize=15)\n",
    "plt.title('Zonally averaged weights', fontsize=15)\n",
    "\n",
    "#plt.savefig('../Research_meetings/7_14_21/zonally_ave_aht_weight')"
   ]
  },
  {
   "cell_type": "code",
   "execution_count": 37,
   "id": "f041c655-966c-42cc-aea5-2c487ef5d3bd",
   "metadata": {},
   "outputs": [
    {
     "data": {
      "text/plain": [
       "<matplotlib.colorbar.Colorbar at 0x7f37600cea90>"
      ]
     },
     "execution_count": 37,
     "metadata": {},
     "output_type": "execute_result"
    },
    {
     "data": {
      "image/png": "[encoded data removed]",
      "text/plain": [
       "<Figure size 432x288 with 2 Axes>"
      ]
     },
     "metadata": {
      "needs_background": "light"
     },
     "output_type": "display_data"
    }
   ],
   "source": [
    "plt.contourf(lons, lats, (zon_norm - aaron_zon_norm)[35,:,:])\n",
    "plt.colorbar()"
   ]
  },
  {
   "cell_type": "code",
   "execution_count": null,
   "id": "082dfb16-7929-4a11-991a-e552ab0677d4",
   "metadata": {},
   "outputs": [],
   "source": []
  },
  {
   "cell_type": "code",
   "execution_count": 63,
   "id": "a9f1ea23-8596-44b1-86fb-d4da83401391",
   "metadata": {},
   "outputs": [],
   "source": [
    "year = 1979\n",
    "\n",
    "times ='00'\n",
    "\n",
    "time_idx = 150\n",
    "\n",
    "vcomp, temp, sphum, geo_pot = era_fncts.aht_opener_helper(year, times)\n",
    "\n",
    "new_ds = era_fncts.aht_instant3(era_fncts.aht_time_sel_helper(vcomp, temp, sphum, geo_pot, time_idx), new_weight)\n",
    "\n",
    "other_ds = era_fncts.aht_instant4(era_fncts.aht_time_sel_helper(vcomp, temp, sphum, geo_pot, time_idx), new_weight)"
   ]
  },
  {
   "cell_type": "code",
   "execution_count": 64,
   "id": "a14860fb-0c53-43c6-9b21-873a79c711d9",
   "metadata": {},
   "outputs": [
    {
     "data": {
      "image/png": "[encoded data removed]",
      "text/plain": [
       "<Figure size 432x288 with 2 Axes>"
      ]
     },
     "metadata": {
      "needs_background": "light"
     },
     "output_type": "display_data"
    },
    {
     "data": {
      "text/plain": [
       "<matplotlib.legend.Legend at 0x7f3544e88bb0>"
      ]
     },
     "execution_count": 64,
     "metadata": {},
     "output_type": "execute_result"
    },
    {
     "data": {
      "image/png": "[encoded data removed]",
      "text/plain": [
       "<Figure size 432x288 with 1 Axes>"
      ]
     },
     "metadata": {
      "needs_background": "light"
     },
     "output_type": "display_data"
    }
   ],
   "source": [
    "mmc_tot = new_ds.mmc_tot_int.sum(['level'], skipna=True).values\n",
    "mmc_tot_other = other_ds.mmc_tot_int.sum(['level'], skipna=True).values\n",
    "geometry = 2 * np.pi * np.cos(np.deg2rad(np.asarray(lats))) * a / g\n",
    "\n",
    "plt.contourf(lats, levels, new_ds.mmc_tot_int,  cmap='bwr')\n",
    "\n",
    "plt.colorbar()\n",
    "plt.gca().invert_yaxis()\n",
    "\n",
    "plt.show()\n",
    "\n",
    "\n",
    "plt.plot(lats, mmc_tot * geometry, label='Original')\n",
    "plt.plot(lats, mmc_tot_other * geometry, label='New')\n",
    "#plt.plot(lats, (mmc_tot- mmc_tot_other) * geometry, label='Diff')\n",
    "plt.axhline(0, color='k')\n",
    "\n",
    "plt.legend(loc=0)"
   ]
  },
  {
   "cell_type": "code",
   "execution_count": 13,
   "id": "1dbd08cd-57f2-4ddd-830c-c4049b90fdfa",
   "metadata": {},
   "outputs": [
    {
     "name": "stderr",
     "output_type": "stream",
     "text": [
      "/home/disk/p/tylersc/anaconda3/envs/era5/lib/python3.9/site-packages/xesmf/frontend.py:531: UserWarning: Using dimensions ('latitude', 'longitude') from data variable sp as the horizontal dimensions for the regridding.\n",
      "  warnings.warn(\n",
      "/home/disk/p/tylersc/anaconda3/envs/era5/lib/python3.9/site-packages/xesmf/frontend.py:496: FutureWarning: ``output_sizes`` should be given in the ``dask_gufunc_kwargs`` parameter. It will be removed as direct parameter in a future version.\n",
      "  ds_out = xr.apply_ufunc(\n"
     ]
    }
   ],
   "source": [
    "#load in the surface pressure\n",
    "ps = xr.open_dataset('monthly_ps.nc')\n",
    "\n",
    "    \n",
    "#Load in the era5 data to get the proper lat/lon and levels\n",
    "dummy_era5_data = xr.open_dataset('/home/disk/eos9/ERA5/hourly_pl/00/1985.v.nc')\n",
    "    \n",
    "lat = dummy_era5_data.latitude\n",
    "lon = dummy_era5_data.longitude\n",
    "    \n",
    "new_coords = xr.Dataset({'lat': (['lat'], dummy_era5_data.latitude.values),\n",
    "                        'lon': (['lon'], dummy_era5_data.longitude.values),\n",
    "                    }\n",
    "                    )\n",
    "\n",
    "grid_in = {'lon': ps.longitude.values,\n",
    "           'lat': ps.latitude.values\n",
    "          }\n",
    "\n",
    "# output grid has a larger coverage and finer resolution\n",
    "grid_out = {'lon': dummy_era5_data.longitude.values,\n",
    "            'lat': dummy_era5_data.latitude.values\n",
    "           }\n",
    "\n",
    "regridder = xe.Regridder(grid_in, grid_out, 'bilinear')\n",
    "#regridder = xe.Regridder(ps, new_coords, 'conservative')\n",
    "\n",
    "    # the entire dataset can be processed at once\n",
    "new_ps = regridder(ps)\n",
    "    \n",
    "ps_all=new_ps.sp.mean(['time']).sel(expver=1) #Surface pressure\n"
   ]
  },
  {
   "cell_type": "code",
   "execution_count": 14,
   "id": "e82d6bc3-4a43-4672-be30-d7f2dfe0b823",
   "metadata": {},
   "outputs": [],
   "source": [
    "ps_part = new_ps.sp.sel(time=slice('2001', '2018')).mean(['time']).sel(expver=1) #Surface pressure"
   ]
  },
  {
   "cell_type": "code",
   "execution_count": null,
   "id": "78c42e03-6f78-46c9-a30e-1dcced3506e8",
   "metadata": {},
   "outputs": [],
   "source": [
    "plt.figure(figsize=(8,6))\n",
    "\n",
    "ax = plt.axes(projection=ccrs.PlateCarree())\n",
    "ax.coastlines()\n",
    "\n",
    "plt.contourf(lons, lats, aaron_ps['CPS'])\n",
    "#plt.contourf(lons, lats, ps_part)\n",
    "\n",
    "plt.colorbar(label='Pa')\n",
    "#print(aaron_ps.keys())"
   ]
  },
  {
   "cell_type": "code",
   "execution_count": 148,
   "id": "af4a730b-3108-4ed3-b68f-5755b2504f89",
   "metadata": {},
   "outputs": [],
   "source": [
    "#np.save('aht_calcs/aht_weights.npy', new_weight)"
   ]
  },
  {
   "cell_type": "code",
   "execution_count": null,
   "id": "39ca9901-17ca-4a18-b721-d40a16299508",
   "metadata": {},
   "outputs": [],
   "source": []
  }
 ],
 "metadata": {
  "kernelspec": {
   "display_name": "Python 3",
   "language": "python",
   "name": "python3"
  },
  "language_info": {
   "codemirror_mode": {
    "name": "ipython",
    "version": 3
   },
   "file_extension": ".py",
   "mimetype": "text/x-python",
   "name": "python",
   "nbconvert_exporter": "python",
   "pygments_lexer": "ipython3",
   "version": "3.9.6"
  }
 },
 "nbformat": 4,
 "nbformat_minor": 5
}
