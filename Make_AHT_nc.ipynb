{
 "cells": [
  {
   "cell_type": "markdown",
   "id": "d463c066-de98-4d45-ab85-0e5c0ced21da",
   "metadata": {},
   "source": [
    "## Import modules"
   ]
  },
  {
   "cell_type": "code",
   "execution_count": 2,
   "id": "bf317d7d-ddec-40be-9ec5-daaab73fc813",
   "metadata": {},
   "outputs": [],
   "source": [
    "import xarray as xr\n",
    "from glob import glob\n",
    "import matplotlib.pyplot as plt\n",
    "import numpy as np\n",
    "from scipy import signal\n",
    "import scipy.stats as sc\n",
    "import metpy as mtp\n",
    "import math\n",
    "from scipy import integrate\n",
    "import ERA5_functions as era_fncts\n",
    "import pandas as pd\n",
    "\n",
    "from matplotlib.pyplot import cm\n",
    "import datetime as dt\n",
    "\n",
    "import cartopy.crs as ccrs\n",
    "from numpy.random import default_rng\n",
    "\n",
    "%load_ext autoreload\n",
    "%autoreload 2"
   ]
  },
  {
   "cell_type": "markdown",
   "id": "713cf921-986c-4cf8-a845-ffb765683f80",
   "metadata": {},
   "source": [
    "### Constants"
   ]
  },
  {
   "cell_type": "code",
   "execution_count": 3,
   "id": "251a5e5e-7977-478e-89ea-c32e4028b5e6",
   "metadata": {},
   "outputs": [],
   "source": [
    "a=6371220 #radius of earth in m\n",
    "L=2.5E6 #Latent heat in atmosphere\n",
    "L_ice=3.34e5 #Latent heat of fusion\n",
    "g=9.81 #Acceleration from gravity\n",
    "conv_pw=1e15 #Conversion from watts to PW\n",
    "cp=1007          \n",
    "    "
   ]
  },
  {
   "cell_type": "markdown",
   "id": "ed61cd9d-7806-493c-9e19-f4d2cb7b6534",
   "metadata": {},
   "source": [
    "### Dimensions/coordinates"
   ]
  },
  {
   "cell_type": "code",
   "execution_count": 4,
   "id": "a776aa1d-e859-45e7-8eee-d25e83802150",
   "metadata": {},
   "outputs": [],
   "source": [
    "lats = np.linspace(90, -90, 361)\n",
    "lons = np.linspace(0, 359.5, 720)\n",
    "levels = [1, 2, 3, 5, 7, 10, 20, 30, 50, 70, 100, 125, 150, 175, 200, 225, 250, 300, 350,\n",
    "            400, 450, 500, 550, 600, 650, 700, 750, 775, 800, 825, 850, 875, 900, 925, 950, 975, 1000]\n",
    "geometry = 2 * np.pi * np.cos(np.deg2rad(np.asarray(lats))) * a / g"
   ]
  },
  {
   "cell_type": "markdown",
   "id": "3e924037-94e6-4444-9401-6d2e314662d3",
   "metadata": {},
   "source": [
    "### Load instantaneous AHT calcs"
   ]
  },
  {
   "cell_type": "code",
   "execution_count": 15,
   "id": "a27c7d8c-6db1-4ab8-a0b7-4e1ccff32fa2",
   "metadata": {},
   "outputs": [],
   "source": [
    "ddir = 'aht_time_series/'\n",
    "eddy_files = sorted(glob(ddir + 'eddy*'))\n",
    "mmc_files = sorted(glob(ddir + 'mmc*'))\n",
    "\n",
    "eddy_moist_files = sorted(glob(ddir + 'moist_aht/eddy_moist_all_times*'))\n",
    "mmc_moist_files = sorted(glob(ddir + 'moist_aht/mmc_moist_all_times*'))"
   ]
  },
  {
   "cell_type": "code",
   "execution_count": 16,
   "id": "fd6b19c5-3c00-4a49-ac0d-82c6cf225cb9",
   "metadata": {},
   "outputs": [],
   "source": [
    "eddy_moist_data = []\n",
    "for eddy in eddy_moist_files:\n",
    "    file_data = np.load(eddy)\n",
    "    eddy_moist_data.append(file_data)\n",
    "\n",
    "eddy_all_times_moist = np.concatenate(eddy_moist_data) * geometry[None,:]\n",
    "        \n",
    "mmc_moist_data = []\n",
    "for mmc in mmc_moist_files:\n",
    "    file_data = np.load(mmc)\n",
    "    mmc_moist_data.append(file_data)\n",
    "\n",
    "mmc_all_times_moist = np.concatenate(mmc_moist_data) * geometry[None,:]\n",
    "        \n",
    "eddy_data = []\n",
    "for eddy in eddy_files:\n",
    "    file_data = np.load(eddy)\n",
    "    eddy_data.append(file_data)\n",
    "\n",
    "eddy_all_times = np.concatenate(eddy_data) * geometry[None,:]\n",
    "        \n",
    "mmc_data = []\n",
    "for mmc in mmc_files:\n",
    "    file_data = np.load(mmc)\n",
    "    mmc_data.append(file_data)\n",
    "\n",
    "mmc_all_times = np.concatenate(mmc_data) * geometry[None,:]"
   ]
  },
  {
   "cell_type": "markdown",
   "id": "77d2ad1d-c54e-4e23-91c9-8a8cdc8114f5",
   "metadata": {},
   "source": [
    "### Remove seasons"
   ]
  },
  {
   "cell_type": "code",
   "execution_count": 17,
   "id": "1c99b181-b959-44cd-b138-c935314d9f77",
   "metadata": {},
   "outputs": [],
   "source": [
    "mmc_all_times_no_season = np.zeros_like(mmc_all_times)\n",
    "\n",
    "eddy_all_times_no_season = np.zeros_like(eddy_all_times)\n",
    "\n",
    "for lat_idx in range(361): #Loop through each latitude\n",
    "    mmc_all_times_no_season[:,lat_idx] = era_fncts.remove_seasons_spline(\n",
    "        mmc_all_times[:,lat_idx], num_knots=6)[0]\n",
    "    eddy_all_times_no_season[:,lat_idx] = era_fncts.remove_seasons_spline(\n",
    "        eddy_all_times[:,lat_idx], num_knots=6)[0]\n",
    "\n",
    "mmc_all_times_no_season_moist = np.zeros_like(mmc_all_times_moist)\n",
    "\n",
    "eddy_all_times_no_season_moist = np.zeros_like(eddy_all_times_moist)\n",
    "\n",
    "for lat_idx in range(361): #Loop through each latitude\n",
    "    mmc_all_times_no_season_moist[:,lat_idx] = era_fncts.remove_seasons_spline(\n",
    "        mmc_all_times_moist[:,lat_idx], num_knots=6)[0]\n",
    "    eddy_all_times_no_season_moist[:,lat_idx] = era_fncts.remove_seasons_spline(\n",
    "        eddy_all_times_moist[:,lat_idx], num_knots=6)[0]"
   ]
  },
  {
   "cell_type": "code",
   "execution_count": 18,
   "id": "f2e1dbcf-eec2-4a24-9e38-183f80986a97",
   "metadata": {},
   "outputs": [],
   "source": [
    "total_all_times = eddy_all_times + mmc_all_times\n",
    "total_all_times_no_season = eddy_all_times_no_season + mmc_all_times_no_season\n",
    "\n",
    "total_all_times_moist = eddy_all_times_moist + mmc_all_times_moist\n",
    "total_all_times_no_season_moist = eddy_all_times_no_season_moist + mmc_all_times_no_season_moist\n",
    "\n",
    "total_all_times_dry = total_all_times - total_all_times_moist\n",
    "total_all_times_no_season_dry = total_all_times_no_season - total_all_times_no_season_moist\n",
    "\n",
    "eddy_all_times_dry = eddy_all_times - eddy_all_times_moist\n",
    "eddy_all_times_no_season_dry = eddy_all_times_no_season - eddy_all_times_no_season_moist\n",
    "\n",
    "mmc_all_times_dry = mmc_all_times - mmc_all_times_moist\n",
    "mmc_all_times_no_season_dry = mmc_all_times_no_season - mmc_all_times_no_season_moist"
   ]
  },
  {
   "cell_type": "code",
   "execution_count": 19,
   "id": "c0c7b61e-1004-410c-afe4-d8e32a1fdd21",
   "metadata": {},
   "outputs": [],
   "source": [
    "#This is now for the full dataset, i.e., through March 2022\n",
    "time_range = pd.date_range('1979-01-01', '2022-03-31 18:00:00', freq='6H')\n",
    "\n",
    "final_ds = xr.Dataset(\n",
    "                        data_vars = dict(\n",
    "                            total_aht=(['time', 'latitude'], total_all_times),\n",
    "                            eddy_aht=(['time', 'latitude'], eddy_all_times),\n",
    "                            mmc_aht=(['time', 'latitude'], mmc_all_times),\n",
    "                            total_aht_no_seasons=(['time', 'latitude'], total_all_times_no_season),\n",
    "                            eddy_aht_no_seasons=(['time', 'latitude'], eddy_all_times_no_season),\n",
    "                            mmc_aht_no_seasons=(['time', 'latitude'], mmc_all_times_no_season),\n",
    "                            total_aht_moist=(['time', 'latitude'], total_all_times_moist),\n",
    "                            eddy_aht_moist=(['time', 'latitude'], eddy_all_times_moist),\n",
    "                            mmc_aht_moist=(['time', 'latitude'], mmc_all_times_moist),\n",
    "                            total_aht_no_seasons_moist=(['time', 'latitude'], total_all_times_no_season_moist),\n",
    "                            eddy_aht_no_seasons_moist=(['time', 'latitude'], eddy_all_times_no_season_moist),\n",
    "                            mmc_aht_no_seasons_moist=(['time', 'latitude'], mmc_all_times_no_season_moist),\n",
    "                            total_aht_dry=(['time', 'latitude'], total_all_times_dry),\n",
    "                            eddy_aht_dry=(['time', 'latitude'], eddy_all_times_dry),\n",
    "                            mmc_aht_dry=(['time', 'latitude'], mmc_all_times_dry),\n",
    "                            total_aht_no_seasons_dry=(['time', 'latitude'], total_all_times_no_season_dry),\n",
    "                            eddy_aht_no_seasons_dry=(['time', 'latitude'], eddy_all_times_no_season_dry),\n",
    "                            mmc_aht_no_seasons_dry=(['time', 'latitude'], mmc_all_times_no_season_dry),\n",
    "                        ),\n",
    "                        coords=dict(\n",
    "                            time=time_range,\n",
    "                            latitude=lats)\n",
    "    )\n",
    "    \n",
    "#final_ds.to_netcdf('aht_time_series/era5_aht_time_series_full.nc', mode='w')"
   ]
  },
  {
   "cell_type": "markdown",
   "id": "9e4aec12-16e4-4678-a560-db0251ae6ee1",
   "metadata": {},
   "source": [
    "### Make one with monthly time resolution"
   ]
  },
  {
   "cell_type": "code",
   "execution_count": 14,
   "id": "7161a04f-e5a2-43a9-b16d-91aba2ad285b",
   "metadata": {},
   "outputs": [],
   "source": [
    "aht_ds_monthly = final_ds.resample(time=\"1M\").mean(['time'])"
   ]
  },
  {
   "cell_type": "code",
   "execution_count": 15,
   "id": "d68860c0-a3a9-4908-84f2-cc88e22ecd86",
   "metadata": {},
   "outputs": [],
   "source": [
    "#aht_ds_monthly.to_netcdf('aht_time_series/era5_monthly_aht_time_series.nc', mode='w')"
   ]
  },
  {
   "cell_type": "markdown",
   "id": "66517a16-d992-4cb2-a829-d2ebbf334969",
   "metadata": {},
   "source": [
    "### Make an nc file for one latitude"
   ]
  },
  {
   "cell_type": "code",
   "execution_count": 14,
   "id": "18d77b89-28ee-4d4c-a4fa-bef5db7124ce",
   "metadata": {},
   "outputs": [],
   "source": [
    "ddir = 'aht_time_series/one_lat/'\n",
    "which_lat = -76\n",
    "eddy_files = sorted(glob(ddir + 'eddy_total_' + str(which_lat) + '*'))"
   ]
  },
  {
   "cell_type": "code",
   "execution_count": 15,
   "id": "9133e348-f17c-4b8f-bd30-3409ca7a03e8",
   "metadata": {},
   "outputs": [],
   "source": [
    "eddy_data = []\n",
    "for eddy in eddy_files:\n",
    "    file_data = np.load(eddy)\n",
    "    eddy_data.append(file_data)\n",
    "\n",
    "eddy_all_times = np.concatenate(eddy_data) * geometry[era_fncts.get_lat_idx(which_lat)]"
   ]
  },
  {
   "cell_type": "code",
   "execution_count": 37,
   "id": "d1bb5a72-ad3e-4fa7-9de1-e0f2214673c0",
   "metadata": {},
   "outputs": [],
   "source": [
    "ddir_moist = 'aht_time_series/moist_aht/'\n",
    "\n",
    "eddy_files_moist = sorted(glob(ddir_moist + 'eddy_moist_' + str(which_lat) + '*'))\n",
    "\n",
    "eddy_data_moist = []\n",
    "for eddy in eddy_files_moist:\n",
    "    file_data = np.load(eddy)\n",
    "    eddy_data_moist.append(file_data)\n",
    "\n",
    "eddy_all_times_moist = np.concatenate(eddy_data_moist) * geometry[era_fncts.get_lat_idx(which_lat)]"
   ]
  },
  {
   "cell_type": "code",
   "execution_count": 38,
   "id": "3fea9d91-d8c5-4afc-9294-2f636fc96570",
   "metadata": {},
   "outputs": [],
   "source": [
    "eddy_all_times_dry = eddy_all_times - eddy_all_times_moist"
   ]
  },
  {
   "cell_type": "code",
   "execution_count": 39,
   "id": "1fcc6ffb-7114-488b-9f5c-5e6e9621f9ed",
   "metadata": {},
   "outputs": [
    {
     "data": {
      "text/plain": [
       "(63184, 720)"
      ]
     },
     "execution_count": 39,
     "metadata": {},
     "output_type": "execute_result"
    }
   ],
   "source": [
    "np.shape(eddy_all_times_dry)"
   ]
  },
  {
   "cell_type": "code",
   "execution_count": 16,
   "id": "f9ea12a9-ecab-4ddb-9914-0bfe12cbd100",
   "metadata": {},
   "outputs": [],
   "source": [
    "eddy_all_times_no_season = np.zeros_like(eddy_all_times)\n",
    "#eddy_all_times_no_season_moist = np.zeros_like(eddy_all_times_moist)\n",
    "#eddy_all_times_no_season_dry = np.zeros_like(eddy_all_times_dry)\n",
    "\n",
    "for lon_idx in range(720): #Loop through each longitude\n",
    "    eddy_all_times_no_season[:,lon_idx] = era_fncts.remove_seasons_spline(\n",
    "        eddy_all_times[:,lon_idx], num_knots=6)[0]\n",
    "    \n",
    "    #eddy_all_times_no_season_moist[:,lon_idx] = era_fncts.remove_seasons_spline(\n",
    "        #eddy_all_times_moist[:,lon_idx], num_knots=6)[0]\n",
    "    \n",
    "    #eddy_all_times_no_season_dry[:,lon_idx] = era_fncts.remove_seasons_spline(\n",
    "        #eddy_all_times_dry[:,lon_idx], num_knots=6)[0]"
   ]
  },
  {
   "cell_type": "code",
   "execution_count": 17,
   "id": "d8d2afa4-9481-400b-961f-3e54b6813ca2",
   "metadata": {},
   "outputs": [],
   "source": [
    "time_range = pd.date_range('1979-01-01', '2022-03-31 18:00:00', freq='6H')\n",
    "\n",
    "final_ds = xr.Dataset(\n",
    "                        data_vars = dict(\n",
    "                            eddy_aht=(['time', 'longitude'], eddy_all_times),\n",
    "                            #eddy_aht_moist=(['time', 'longitude'], eddy_all_times_moist),\n",
    "                            #eddy_aht_dry=(['time', 'longitude'], eddy_all_times_dry),\n",
    "                            eddy_aht_no_seasons=(['time', 'longitude'], eddy_all_times_no_season),\n",
    "                            #eddy_aht_no_seasons_moist=(['time', 'longitude'], eddy_all_times_no_season_moist),\n",
    "                            #eddy_aht_no_seasons_dry=(['time', 'longitude'], eddy_all_times_no_season_dry),\n",
    "                        ),\n",
    "                        coords=dict(\n",
    "                            time=time_range,\n",
    "                            longitude=lons),\n",
    "                    attrs=dict(description=\"AHT data at \" + str(which_lat) + \"deg\")\n",
    "    )\n",
    "    \n",
    "#final_ds.to_netcdf('aht_time_series/era5_eddy_aht_time_series_' + str(which_lat) + 'deg.nc',\n",
    "                   #mode='w')"
   ]
  },
  {
   "cell_type": "code",
   "execution_count": 8,
   "id": "14ccb42c-8d93-4915-82da-f32e6f35437e",
   "metadata": {},
   "outputs": [],
   "source": [
    "aht_ds_monthly = final_ds.resample(time=\"1M\").mean(['time'])\n",
    "#aht_ds_monthly.to_netcdf('aht_time_series/era5_monthly_aht_time_series_' + str(which_lat) + 'deg.nc',\n",
    "                   #mode='w')"
   ]
  },
  {
   "cell_type": "markdown",
   "id": "7519b7a1-70c9-4726-931f-9cb6cf4d4bd6",
   "metadata": {},
   "source": [
    "### Make an nc file at one latitude and one level"
   ]
  },
  {
   "cell_type": "code",
   "execution_count": 19,
   "id": "6680bbf8-675e-4401-8845-42decc9ced68",
   "metadata": {},
   "outputs": [],
   "source": [
    "ddir = 'aht_time_series/one_level/'\n",
    "which_lat = -75\n",
    "which_lev = 550\n",
    "eddy_files = sorted(glob(ddir + 'eddy_' + '*' + str(which_lat) + '_' + str(which_lev) + '*'))"
   ]
  },
  {
   "cell_type": "code",
   "execution_count": 20,
   "id": "78896d6e-6c93-4104-a3fc-ce0950e68077",
   "metadata": {},
   "outputs": [],
   "source": [
    "eddy_data = []\n",
    "for eddy in eddy_files:\n",
    "    file_data = np.load(eddy)\n",
    "    eddy_data.append(file_data)\n",
    "\n",
    "eddy_all_times = np.concatenate(eddy_data) * geometry[era_fncts.get_lat_idx(which_lat)]"
   ]
  },
  {
   "cell_type": "code",
   "execution_count": 37,
   "id": "5866c206-6af9-466f-b49a-c27f221e4747",
   "metadata": {},
   "outputs": [],
   "source": [
    "ddir_moist = 'aht_time_series/moist_aht/'\n",
    "\n",
    "eddy_files_moist = sorted(glob(ddir_moist + 'eddy_moist_' + str(which_lat) + '*'))\n",
    "\n",
    "eddy_data_moist = []\n",
    "for eddy in eddy_files_moist:\n",
    "    file_data = np.load(eddy)\n",
    "    eddy_data_moist.append(file_data)\n",
    "\n",
    "eddy_all_times_moist = np.concatenate(eddy_data_moist) * geometry[era_fncts.get_lat_idx(which_lat)]"
   ]
  },
  {
   "cell_type": "code",
   "execution_count": 38,
   "id": "c30f6bba-7d53-4249-8301-49eb2fd84296",
   "metadata": {},
   "outputs": [],
   "source": [
    "eddy_all_times_dry = eddy_all_times - eddy_all_times_moist"
   ]
  },
  {
   "cell_type": "code",
   "execution_count": 21,
   "id": "1cd10935-7519-41f3-bc38-15e41b91a76e",
   "metadata": {},
   "outputs": [
    {
     "data": {
      "text/plain": [
       "(62824, 720)"
      ]
     },
     "execution_count": 21,
     "metadata": {},
     "output_type": "execute_result"
    }
   ],
   "source": [
    "np.shape(eddy_all_times)"
   ]
  },
  {
   "cell_type": "code",
   "execution_count": 22,
   "id": "b2d5b757-41c5-47fa-bff4-cfe9b5160efc",
   "metadata": {},
   "outputs": [],
   "source": [
    "eddy_all_times_no_season = np.zeros_like(eddy_all_times)\n",
    "#eddy_all_times_no_season_moist = np.zeros_like(eddy_all_times_moist)\n",
    "#eddy_all_times_no_season_dry = np.zeros_like(eddy_all_times_dry)\n",
    "\n",
    "for lon_idx in range(720): #Loop through each longitude\n",
    "    eddy_all_times_no_season[:,lon_idx] = era_fncts.remove_seasons_spline(\n",
    "        eddy_all_times[:,lon_idx], num_knots=6)[0]\n",
    "    \n",
    "    #eddy_all_times_no_season_moist[:,lon_idx] = era_fncts.remove_seasons_spline(\n",
    "        #eddy_all_times_moist[:,lon_idx], num_knots=6)[0]\n",
    "    \n",
    "    #eddy_all_times_no_season_dry[:,lon_idx] = era_fncts.remove_seasons_spline(\n",
    "        #eddy_all_times_dry[:,lon_idx], num_knots=6)[0]"
   ]
  },
  {
   "cell_type": "code",
   "execution_count": 23,
   "id": "c8028d41-81a1-40ef-bec2-4b727a8ecb65",
   "metadata": {},
   "outputs": [
    {
     "ename": "ValueError",
     "evalue": "conflicting sizes for dimension 'time': length 63184 on 'time' and length 62824 on {'time': 'eddy_aht', 'longitude': 'eddy_aht'}",
     "output_type": "error",
     "traceback": [
      "\u001b[0;31m---------------------------------------------------------------------------\u001b[0m",
      "\u001b[0;31mValueError\u001b[0m                                Traceback (most recent call last)",
      "\u001b[0;32m<ipython-input-23-2fa8d39b42cc>\u001b[0m in \u001b[0;36m<module>\u001b[0;34m\u001b[0m\n\u001b[1;32m      1\u001b[0m \u001b[0mtime_range\u001b[0m \u001b[0;34m=\u001b[0m \u001b[0mpd\u001b[0m\u001b[0;34m.\u001b[0m\u001b[0mdate_range\u001b[0m\u001b[0;34m(\u001b[0m\u001b[0;34m'1979-01-01'\u001b[0m\u001b[0;34m,\u001b[0m \u001b[0;34m'2022-03-31 18:00:00'\u001b[0m\u001b[0;34m,\u001b[0m \u001b[0mfreq\u001b[0m\u001b[0;34m=\u001b[0m\u001b[0;34m'6H'\u001b[0m\u001b[0;34m)\u001b[0m\u001b[0;34m\u001b[0m\u001b[0;34m\u001b[0m\u001b[0m\n\u001b[1;32m      2\u001b[0m \u001b[0;34m\u001b[0m\u001b[0m\n\u001b[0;32m----> 3\u001b[0;31m final_ds = xr.Dataset(\n\u001b[0m\u001b[1;32m      4\u001b[0m                         data_vars = dict(\n\u001b[1;32m      5\u001b[0m                             \u001b[0meddy_aht\u001b[0m\u001b[0;34m=\u001b[0m\u001b[0;34m(\u001b[0m\u001b[0;34m[\u001b[0m\u001b[0;34m'time'\u001b[0m\u001b[0;34m,\u001b[0m \u001b[0;34m'longitude'\u001b[0m\u001b[0;34m]\u001b[0m\u001b[0;34m,\u001b[0m \u001b[0meddy_all_times\u001b[0m\u001b[0;34m)\u001b[0m\u001b[0;34m,\u001b[0m\u001b[0;34m\u001b[0m\u001b[0;34m\u001b[0m\u001b[0m\n",
      "\u001b[0;32m/tdat/tylersc/mini3/envs/jupyter_copy/lib/python3.9/site-packages/xarray/core/dataset.py\u001b[0m in \u001b[0;36m__init__\u001b[0;34m(self, data_vars, coords, attrs)\u001b[0m\n\u001b[1;32m    752\u001b[0m             \u001b[0mcoords\u001b[0m \u001b[0;34m=\u001b[0m \u001b[0mcoords\u001b[0m\u001b[0;34m.\u001b[0m\u001b[0mvariables\u001b[0m\u001b[0;34m\u001b[0m\u001b[0;34m\u001b[0m\u001b[0m\n\u001b[1;32m    753\u001b[0m \u001b[0;34m\u001b[0m\u001b[0m\n\u001b[0;32m--> 754\u001b[0;31m         variables, coord_names, dims, indexes, _ = merge_data_and_coords(\n\u001b[0m\u001b[1;32m    755\u001b[0m             \u001b[0mdata_vars\u001b[0m\u001b[0;34m,\u001b[0m \u001b[0mcoords\u001b[0m\u001b[0;34m,\u001b[0m \u001b[0mcompat\u001b[0m\u001b[0;34m=\u001b[0m\u001b[0;34m\"broadcast_equals\"\u001b[0m\u001b[0;34m\u001b[0m\u001b[0;34m\u001b[0m\u001b[0m\n\u001b[1;32m    756\u001b[0m         )\n",
      "\u001b[0;32m/tdat/tylersc/mini3/envs/jupyter_copy/lib/python3.9/site-packages/xarray/core/merge.py\u001b[0m in \u001b[0;36mmerge_data_and_coords\u001b[0;34m(data, coords, compat, join)\u001b[0m\n\u001b[1;32m    482\u001b[0m     \u001b[0mexplicit_coords\u001b[0m \u001b[0;34m=\u001b[0m \u001b[0mcoords\u001b[0m\u001b[0;34m.\u001b[0m\u001b[0mkeys\u001b[0m\u001b[0;34m(\u001b[0m\u001b[0;34m)\u001b[0m\u001b[0;34m\u001b[0m\u001b[0;34m\u001b[0m\u001b[0m\n\u001b[1;32m    483\u001b[0m     \u001b[0mindexes\u001b[0m \u001b[0;34m=\u001b[0m \u001b[0mdict\u001b[0m\u001b[0;34m(\u001b[0m\u001b[0m_extract_indexes_from_coords\u001b[0m\u001b[0;34m(\u001b[0m\u001b[0mcoords\u001b[0m\u001b[0;34m)\u001b[0m\u001b[0;34m)\u001b[0m\u001b[0;34m\u001b[0m\u001b[0;34m\u001b[0m\u001b[0m\n\u001b[0;32m--> 484\u001b[0;31m     return merge_core(\n\u001b[0m\u001b[1;32m    485\u001b[0m         \u001b[0mobjects\u001b[0m\u001b[0;34m,\u001b[0m \u001b[0mcompat\u001b[0m\u001b[0;34m,\u001b[0m \u001b[0mjoin\u001b[0m\u001b[0;34m,\u001b[0m \u001b[0mexplicit_coords\u001b[0m\u001b[0;34m=\u001b[0m\u001b[0mexplicit_coords\u001b[0m\u001b[0;34m,\u001b[0m \u001b[0mindexes\u001b[0m\u001b[0;34m=\u001b[0m\u001b[0mindexes\u001b[0m\u001b[0;34m\u001b[0m\u001b[0;34m\u001b[0m\u001b[0m\n\u001b[1;32m    486\u001b[0m     )\n",
      "\u001b[0;32m/tdat/tylersc/mini3/envs/jupyter_copy/lib/python3.9/site-packages/xarray/core/merge.py\u001b[0m in \u001b[0;36mmerge_core\u001b[0;34m(objects, compat, join, combine_attrs, priority_arg, explicit_coords, indexes, fill_value)\u001b[0m\n\u001b[1;32m    638\u001b[0m     \u001b[0massert_unique_multiindex_level_names\u001b[0m\u001b[0;34m(\u001b[0m\u001b[0mvariables\u001b[0m\u001b[0;34m)\u001b[0m\u001b[0;34m\u001b[0m\u001b[0;34m\u001b[0m\u001b[0m\n\u001b[1;32m    639\u001b[0m \u001b[0;34m\u001b[0m\u001b[0m\n\u001b[0;32m--> 640\u001b[0;31m     \u001b[0mdims\u001b[0m \u001b[0;34m=\u001b[0m \u001b[0mcalculate_dimensions\u001b[0m\u001b[0;34m(\u001b[0m\u001b[0mvariables\u001b[0m\u001b[0;34m)\u001b[0m\u001b[0;34m\u001b[0m\u001b[0;34m\u001b[0m\u001b[0m\n\u001b[0m\u001b[1;32m    641\u001b[0m \u001b[0;34m\u001b[0m\u001b[0m\n\u001b[1;32m    642\u001b[0m     \u001b[0mcoord_names\u001b[0m\u001b[0;34m,\u001b[0m \u001b[0mnoncoord_names\u001b[0m \u001b[0;34m=\u001b[0m \u001b[0mdetermine_coords\u001b[0m\u001b[0;34m(\u001b[0m\u001b[0mcoerced\u001b[0m\u001b[0;34m)\u001b[0m\u001b[0;34m\u001b[0m\u001b[0;34m\u001b[0m\u001b[0m\n",
      "\u001b[0;32m/tdat/tylersc/mini3/envs/jupyter_copy/lib/python3.9/site-packages/xarray/core/dataset.py\u001b[0m in \u001b[0;36mcalculate_dimensions\u001b[0;34m(variables)\u001b[0m\n\u001b[1;32m    206\u001b[0m                 \u001b[0mlast_used\u001b[0m\u001b[0;34m[\u001b[0m\u001b[0mdim\u001b[0m\u001b[0;34m]\u001b[0m \u001b[0;34m=\u001b[0m \u001b[0mk\u001b[0m\u001b[0;34m\u001b[0m\u001b[0;34m\u001b[0m\u001b[0m\n\u001b[1;32m    207\u001b[0m             \u001b[0;32melif\u001b[0m \u001b[0mdims\u001b[0m\u001b[0;34m[\u001b[0m\u001b[0mdim\u001b[0m\u001b[0;34m]\u001b[0m \u001b[0;34m!=\u001b[0m \u001b[0msize\u001b[0m\u001b[0;34m:\u001b[0m\u001b[0;34m\u001b[0m\u001b[0;34m\u001b[0m\u001b[0m\n\u001b[0;32m--> 208\u001b[0;31m                 raise ValueError(\n\u001b[0m\u001b[1;32m    209\u001b[0m                     \u001b[0;34mf\"conflicting sizes for dimension {dim!r}: \"\u001b[0m\u001b[0;34m\u001b[0m\u001b[0;34m\u001b[0m\u001b[0m\n\u001b[1;32m    210\u001b[0m                     \u001b[0;34mf\"length {size} on {k!r} and length {dims[dim]} on {last_used!r}\"\u001b[0m\u001b[0;34m\u001b[0m\u001b[0;34m\u001b[0m\u001b[0m\n",
      "\u001b[0;31mValueError\u001b[0m: conflicting sizes for dimension 'time': length 63184 on 'time' and length 62824 on {'time': 'eddy_aht', 'longitude': 'eddy_aht'}"
     ]
    }
   ],
   "source": [
    "time_range = pd.date_range('1979-01-01', '2022-03-31 18:00:00', freq='6H')\n",
    "\n",
    "final_ds = xr.Dataset(\n",
    "                        data_vars = dict(\n",
    "                            eddy_aht=(['time', 'longitude'], eddy_all_times),\n",
    "                            #eddy_aht_moist=(['time', 'longitude'], eddy_all_times_moist),\n",
    "                            #eddy_aht_dry=(['time', 'longitude'], eddy_all_times_dry),\n",
    "                            eddy_aht_no_seasons=(['time', 'longitude'], eddy_all_times_no_season),\n",
    "                            #eddy_aht_no_seasons_moist=(['time', 'longitude'], eddy_all_times_no_season_moist),\n",
    "                            #eddy_aht_no_seasons_dry=(['time', 'longitude'], eddy_all_times_no_season_dry),\n",
    "                        ),\n",
    "                        coords=dict(\n",
    "                            time=time_range,\n",
    "                            longitude=lons),\n",
    "                    attrs=dict(description=\"AHT data at \" + str(which_lat) + \"deg\")\n",
    "    )\n",
    "    \n",
    "final_ds.to_netcdf('aht_time_series/era5_eddy_aht_time_series_' + str(which_lat) + 'deg' + \n",
    "                   str(which_level) + 'hPa.nc',\n",
    "                   mode='w')"
   ]
  },
  {
   "cell_type": "code",
   "execution_count": null,
   "id": "7efb33ba-3047-4864-9ffc-9e9193985ab7",
   "metadata": {},
   "outputs": [],
   "source": []
  }
 ],
 "metadata": {
  "kernelspec": {
   "display_name": "Python 3",
   "language": "python",
   "name": "python3"
  },
  "language_info": {
   "codemirror_mode": {
    "name": "ipython",
    "version": 3
   },
   "file_extension": ".py",
   "mimetype": "text/x-python",
   "name": "python",
   "nbconvert_exporter": "python",
   "pygments_lexer": "ipython3",
   "version": "3.9.6"
  }
 },
 "nbformat": 4,
 "nbformat_minor": 5
}
