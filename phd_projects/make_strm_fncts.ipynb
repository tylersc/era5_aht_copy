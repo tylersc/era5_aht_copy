{
 "cells": [
  {
   "cell_type": "code",
   "execution_count": 6,
   "id": "d54323fc-317d-4f38-90cb-63f547462b08",
   "metadata": {},
   "outputs": [
    {
     "name": "stdout",
     "output_type": "stream",
     "text": [
      "The autoreload extension is already loaded. To reload it, use:\n",
      "  %reload_ext autoreload\n"
     ]
    }
   ],
   "source": [
    "import xarray as xr\n",
    "import numpy as np\n",
    "import matplotlib.pyplot as plt\n",
    "from glob import glob\n",
    "import pandas as pd\n",
    "\n",
    "import sys  \n",
    "sys.path.insert(0, '../')\n",
    "import ERA5_functions as era_fncts\n",
    "\n",
    "%load_ext autoreload\n",
    "%autoreload 2"
   ]
  },
  {
   "cell_type": "code",
   "execution_count": 7,
   "id": "8ed407f0-cd40-448e-9993-b62b533c6125",
   "metadata": {},
   "outputs": [],
   "source": [
    "lats = np.linspace(90, -90, 361)\n",
    "lons = np.linspace(0, 359.5, 720)\n",
    "levels = [1, 2, 3, 5, 7, 10, 20, 30, 50, 70, 100, 125, 150, 175, 200, 225, 250, 300, 350,\n",
    "            400, 450, 500, 550, 600, 650, 700, 750, 775, 800, 825, 850, 875, 900, 925, 950, 975, 1000]\n",
    "\n",
    "times = pd.date_range('1979-01-01', '2021-12-31 18:00:00', freq='1M')"
   ]
  },
  {
   "cell_type": "code",
   "execution_count": 2,
   "id": "5a834948-7366-47d7-a922-efa4f364055e",
   "metadata": {},
   "outputs": [],
   "source": [
    "data_files = sorted(glob('../era5_raw_data/monthly_data/*.nc'))\n",
    "\n",
    "all_strms = np.zeros((len(data_files)*12, 37, 361))\n",
    "for idx, file in enumerate(data_files):\n",
    "    data = xr.open_dataset(file)\n",
    "    all_strms[idx*12:(idx*12)+12,:,:] = era_fncts.calc_strm_funct(data)"
   ]
  },
  {
   "cell_type": "code",
   "execution_count": 8,
   "id": "de660eaf-b1fb-4692-bc68-e6f6f8661e56",
   "metadata": {},
   "outputs": [],
   "source": [
    "final_ds = xr.Dataset(\n",
    "                    data_vars = dict(\n",
    "                        strm_fnct=(['time', 'level', 'latitude'], all_strms),\n",
    "                    ),\n",
    "                    coords=dict(\n",
    "                        time=times,\n",
    "                        latitude=lats,\n",
    "                        level=levels)\n",
    ")"
   ]
  },
  {
   "cell_type": "code",
   "execution_count": 10,
   "id": "bca4f7b5-7c42-452b-98d8-128a911e5252",
   "metadata": {},
   "outputs": [],
   "source": [
    "#final_ds.to_netcdf('strm_functions.nc')"
   ]
  },
  {
   "cell_type": "code",
   "execution_count": null,
   "id": "5b83b83f-70f0-404e-a0b3-679b8154e697",
   "metadata": {},
   "outputs": [],
   "source": []
  }
 ],
 "metadata": {
  "kernelspec": {
   "display_name": "Python 3",
   "language": "python",
   "name": "python3"
  },
  "language_info": {
   "codemirror_mode": {
    "name": "ipython",
    "version": 3
   },
   "file_extension": ".py",
   "mimetype": "text/x-python",
   "name": "python",
   "nbconvert_exporter": "python",
   "pygments_lexer": "ipython3",
   "version": "3.9.6"
  }
 },
 "nbformat": 4,
 "nbformat_minor": 5
}
